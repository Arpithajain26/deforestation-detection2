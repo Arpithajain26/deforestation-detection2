{
 "cells": [
  {
   "cell_type": "code",
   "execution_count": null,
   "id": "1705cd44",
   "metadata": {
    "vscode": {
     "languageId": "plaintext"
    }
   },
   "outputs": [],
   "source": [
    "# Check unique and n unique for all categorical features\n",
    "for col in df.columns:\n",
    "  if df[col].dtype == 'object':\n",
    "    print(f\"Column: {col}\")\n",
    "    print(f\"Unique values: {df[col].unique()}\")\n",
    "    print(f\"Number of unique values: {df[col].nunique()}\")\n",
    "    print(\"-\" * 50)"
   ]
  },
  {
   "cell_type": "code",
   "execution_count": null,
   "id": "af3f75c6",
   "metadata": {
    "vscode": {
     "languageId": "plaintext"
    }
   },
   "outputs": [],
   "source": [
    "# Count plot for 'type'\n",
    "plt.figure(figsize=(8, 6))\n",
    "sns.countplot(x='type', data=df)\n",
    "plt.title('Distribution of Fire Types')\n",
    "plt.xlabel('Fire Type')\n",
    "plt.ylabel('Count')\n",
    "plt.show()"
   ]
  },
  {
   "cell_type": "code",
   "execution_count": null,
   "id": "7b334ca6",
   "metadata": {
    "vscode": {
     "languageId": "plaintext"
    }
   },
   "outputs": [],
   "source": [
    "# Histogram of 'confidence'\n",
    "plt.figure(figsize=(8, 6))\n",
    "sns.histplot(df['confidence'], bins=20, kde=True)\n",
    "plt.title('Distribution of Confidence')\n",
    "plt.xlabel('Confidence')\n",
    "plt.ylabel('Frequency')\n",
    "plt.show()"
   ]
  },
  {
   "cell_type": "code",
   "execution_count": null,
   "id": "1db3c6c9",
   "metadata": {
    "vscode": {
     "languageId": "plaintext"
    }
   },
   "outputs": [],
   "source": [
    "plt.figure(figsize=(8, 6))\n",
    "sns.boxplot(x='type', y='confidence', data=df)\n",
    "plt.title('Confidence by Fire Type')\n",
    "plt.xlabel('Fire Type')\n",
    "plt.ylabel('Confidence')\n",
    "plt.show()"
   ]
  },
  {
   "cell_type": "code",
   "execution_count": null,
   "id": "dc2f918f",
   "metadata": {
    "vscode": {
     "languageId": "plaintext"
    }
   },
   "outputs": [],
   "source": [
    "plt.figure(figsize=(10, 8))\n",
    "sns.scatterplot(x='longitude', y='latitude', data=df, hue='type', s=10)\n",
    "plt.title('Fire Locations by Type')\n",
    "plt.xlabel('Longitude')\n",
    "plt.ylabel('Latitude')\n",
    "plt.legend(title='Fire Type')\n",
    "plt.show()"
   ]
  },
  {
   "cell_type": "code",
   "execution_count": null,
   "id": "4a36e374",
   "metadata": {
    "vscode": {
     "languageId": "plaintext"
    }
   },
   "outputs": [],
   "source": [
    "plt.figure(figsize=(6, 4))\n",
    "sns.countplot(x='daynight', data=df)\n",
    "plt.title('Distribution of Day/Night Observations')\n",
    "plt.xlabel('Day/Night')\n",
    "plt.ylabel('Count')\n",
    "plt.show()"
   ]
  },
  {
   "cell_type": "code",
   "execution_count": null,
   "id": "7e54dd42",
   "metadata": {
    "vscode": {
     "languageId": "plaintext"
    }
   },
   "outputs": [],
   "source": [
    "plt.figure(figsize=(6, 4))\n",
    "sns.countplot(x='satellite', data=df)\n",
    "plt.title('Distribution of Satellite Observations')\n",
    "plt.xlabel('Satellite')\n",
    "plt.ylabel('Count')\n",
    "plt.show()"
   ]
  },
  {
   "cell_type": "code",
   "execution_count": null,
   "id": "96a190ab",
   "metadata": {
    "vscode": {
     "languageId": "plaintext"
    }
   },
   "outputs": [],
   "source": [
    "plt.figure(figsize=(6, 4))\n",
    "sns.countplot(x='version', data=df)\n",
    "plt.title('Distribution of Version')\n",
    "plt.xlabel('Version')\n",
    "plt.ylabel('Count')\n",
    "plt.show()"
   ]
  },
  {
   "cell_type": "code",
   "execution_count": null,
   "id": "03ebbab0",
   "metadata": {
    "vscode": {
     "languageId": "plaintext"
    }
   },
   "outputs": [],
   "source": [
    "plt.figure(figsize=(10, 8))\n",
    "correlation_matrix = df[['latitude', 'longitude', 'brightness', 'confidence', 'frp']].corr()\n",
    "sns.heatmap(correlation_matrix, annot=True, cmap='coolwarm', fmt=\".2f\")\n",
    "plt.title('Correlation Heatmap of Numerical Features')\n",
    "plt.show()"
   ]
  },
  {
   "cell_type": "code",
   "execution_count": null,
   "id": "042b053e",
   "metadata": {
    "vscode": {
     "languageId": "plaintext"
    }
   },
   "outputs": [],
   "source": [
    "import statsmodels.api as sm\n",
    "import scipy.stats as stats\n",
    "\n",
    "# List of numerical features to check for distribution\n",
    "numerical_features = ['brightness', 'confidence', 'frp', 'bright_t31', 'scan', 'track']\n",
    "\n",
    "for feature in numerical_features:\n",
    "    print(f\"Analyzing distribution for: {feature}\")\n",
    "\n",
    "    # KDE Plot\n",
    "    plt.figure(figsize=(12, 5))\n",
    "\n",
    "    plt.subplot(1, 2, 1)\n",
    "    sns.kdeplot(df[feature], fill=True)\n",
    "    plt.title(f'KDE Plot of {feature}')\n",
    "    plt.xlabel(feature)\n",
    "    plt.ylabel('Density')\n",
    "\n",
    "    # QQ Plot\n",
    "    plt.subplot(1, 2, 2)\n",
    "    stats.probplot(df[feature], dist=\"norm\", plot=plt)\n",
    "    plt.title(f'QQ Plot of {feature}')\n",
    "\n",
    "    plt.tight_layout()\n",
    "    plt.show()\n",
    "    print(\"-\" * 50)"
   ]
  },
  {
   "cell_type": "code",
   "execution_count": null,
   "id": "73bb099a",
   "metadata": {
    "vscode": {
     "languageId": "plaintext"
    }
   },
   "outputs": [],
   "source": [
    "--\n",
    "# Convert 'acq_date' to datetime objects\n",
    "df['acq_date'] = pd.to_datetime(df['acq_date'])\n",
    "# Extract temporal features\n",
    "df['year'] = df['acq_date'].dt.year\n",
    "df['month'] = df['acq_date'].dt.month\n",
    "df['day_of_week'] = df['acq_date'].dt.dayofweek # Monday=0, Sunday=6\n",
    "df['day_of_year'] = df['acq_date'].dt.dayofyear\n",
    "df['hour'] = df['acq_time'].astype(str).str[:2].astype(int) "
   ]
  },
  {
   "cell_type": "code",
   "execution_count": null,
   "id": "84925b8a",
   "metadata": {
    "vscode": {
     "languageId": "plaintext"
    }
   },
   "outputs": [],
   "source": [
    "plt.figure(figsize=(10, 6))\n",
    "sns.countplot(data=df, x='month', palette='viridis')\n",
    "plt.title('Fire Detections by Month (2023)')\n",
    "plt.xlabel('Month')\n",
    "plt.ylabel('Number of Detections')\n",
    "plt.xticks(ticks=range(12), labels=['Jan', 'Feb', 'Mar', 'Apr', 'May', 'Jun', 'Jul', 'Aug', 'Sep', 'Oct', 'Nov', 'Dec'])\n",
    "plt.show()"
   ]
  },
  {
   "cell_type": "code",
   "execution_count": null,
   "id": "cac8b9aa",
   "metadata": {
    "vscode": {
     "languageId": "plaintext"
    }
   },
   "outputs": [],
   "source": [
    "plt.figure(figsize=(10, 6))\n",
    "sns.countplot(data=df, x='day_of_week', palette='viridis')\n",
    "plt.title('Fire Detections by Day of Week (2023)')\n",
    "plt.xlabel('Day of Week')\n",
    "plt.ylabel('Number of Detections')\n",
    "plt.xticks(ticks=range(7), labels=['Mon', 'Tue', 'Wed', 'Thu', 'Fri', 'Sat', 'Sun'])\n",
    "plt.show()"
   ]
  },
  {
   "cell_type": "code",
   "execution_count": null,
   "id": "bad52ac1",
   "metadata": {
    "vscode": {
     "languageId": "plaintext"
    }
   },
   "outputs": [],
   "source": [
    "plt.figure(figsize=(12, 8))\n",
    "sns.boxplot(data=df[numerical_cols])\n",
    "plt.title('Box Plots for Key Numerical Features')\n",
    "plt.ylabel('Value')\n",
    "plt.show()"
   ]
  },
  {
   "cell_type": "code",
   "execution_count": null,
   "id": "ed453dcf",
   "metadata": {
    "vscode": {
     "languageId": "plaintext"
    }
   },
   "outputs": [],
   "source": [
    "def remove_outliers_iqr(df, column):\n",
    "  Q1 = df[column].quantile(0.25)\n",
    "  Q3 = df[column].quantile(0.75)\n",
    "  IQR = Q3 - Q1\n",
    "  lower_bound = Q1 - 1.5 * IQR\n",
    "  upper_bound = Q3 + 1.5 * IQR\n",
    "  df_cleaned = df[(df[column] >= lower_bound) & (df[column] <= upper_bound)].copy()\n",
    "  return df_cleaned\n",
    "\n",
    "# Apply outlier removal to numerical columns\n",
    "for col in numerical_cols:\n",
    "  df = remove_outliers_iqr(df, col)\n",
    "\n",
    "print(\"Shape after removing outliers:\", df.shape)"
   ]
  },
  {
   "cell_type": "code",
   "execution_count": null,
   "id": "75384d9b",
   "metadata": {
    "vscode": {
     "languageId": "plaintext"
    }
   },
   "outputs": [],
   "source": [
    "# Visualize box plots after outlier removal\n",
    "plt.figure(figsize=(12, 8))\n",
    "sns.boxplot(data=df[numerical_cols])\n",
    "plt.title('Box Plots for Numerical Features After Outlier Removal')\n",
    "plt.ylabel('Value')\n",
    "plt.show()"
   ]
  },
  {
   "cell_type": "code",
   "execution_count": null,
   "id": "f14f8660",
   "metadata": {
    "vscode": {
     "languageId": "plaintext"
    }
   },
   "outputs": [],
   "source": [
    "# !pip install folium\n",
    "import folium\n",
    "\n",
    "# Create map and sample data\n",
    "india_map = folium.Map(location=[22.351115, 78.667743], zoom_start=5)\n",
    "sample_df = df_encoded.sample(n=min(10000, len(df_encoded)), random_state=42)\n",
    "\n",
    "# Add markers\n",
    "for _, row in sample_df.iterrows():\n",
    "    folium.CircleMarker(\n",
    "        location=[row['latitude'], row['longitude']],\n",
    "        radius=3,\n",
    "        color='red',\n",
    "        fill=True,\n",
    "        fill_opacity=0.6,\n",
    "        popup=f\"FRP: {row['frp']:.2f}, Date: {row['acq_date'].strftime('%Y-%m-%d')}\"\n",
    "    ).add_to(india_map)\n",
    "\n",
    "display(india_map)"
   ]
  },
  {
   "cell_type": "code",
   "execution_count": null,
   "id": "4a952865",
   "metadata": {
    "vscode": {
     "languageId": "plaintext"
    }
   },
   "outputs": [],
   "source": [
    "plt.figure(figsize=(10, 8))\n",
    "correlation_matrix = df_encoded[['brightness', 'scan', 'track', 'confidence', 'bright_t31', 'frp']].corr()\n",
    "sns.heatmap(correlation_matrix, annot=True, cmap='coolwarm', fmt=\".2f\")\n",
    "plt.title('Correlation Heatmap of Numerical Features')\n",
    "plt.show()"
   ]
  },
  {
   "cell_type": "code",
   "execution_count": null,
   "id": "4ce509af",
   "metadata": {
    "vscode": {
     "languageId": "plaintext"
    }
   },
   "outputs": [],
   "source": [
    "features = ['brightness', 'scan', 'track', 'confidence', 'bright_t31', 'frp']\n",
    "target = 'type'\n",
    "\n",
    "X = df_encoded[features]\n",
    "y = df_encoded[target]\n"
   ]
  },
  {
   "cell_type": "code",
   "execution_count": null,
   "id": "c2eb183e",
   "metadata": {
    "vscode": {
     "languageId": "plaintext"
    }
   },
   "outputs": [],
   "source": [
    "smote = SMOTE(random_state=42)\n",
    "\n",
    "# Apply SMOTE to the training data\n",
    "X_resampled, y_resampled = smote.fit_resample(X, y)\n",
    "\n",
    "# Check the distribution of the target variable after resampling\n",
    "print(\"Distribution of target variable after SMOTE:\")\n",
    "print(y_resampled.value_counts())"
   ]
  },
  {
   "cell_type": "code",
   "execution_count": null,
   "id": "19da8efc",
   "metadata": {
    "vscode": {
     "languageId": "plaintext"
    }
   },
   "outputs": [],
   "source": []
  }
 ],
 "metadata": {
  "language_info": {
   "name": "python"
  }
 },
 "nbformat": 4,
 "nbformat_minor": 5
}
